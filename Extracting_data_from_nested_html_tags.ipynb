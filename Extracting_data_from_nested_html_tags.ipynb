{
  "nbformat": 4,
  "nbformat_minor": 0,
  "metadata": {
    "colab": {
      "provenance": [],
      "authorship_tag": "ABX9TyPMajBA1tjA1bgS4OuC7Gaz",
      "include_colab_link": true
    },
    "kernelspec": {
      "name": "python3",
      "display_name": "Python 3"
    },
    "language_info": {
      "name": "python"
    }
  },
  "cells": [
    {
      "cell_type": "markdown",
      "metadata": {
        "id": "view-in-github",
        "colab_type": "text"
      },
      "source": [
        "<a href=\"https://colab.research.google.com/github/SindhuDinesh2/Web-Scraping/blob/main/Extracting_data_from_nested_html_tags.ipynb\" target=\"_parent\"><img src=\"https://colab.research.google.com/assets/colab-badge.svg\" alt=\"Open In Colab\"/></a>"
      ]
    },
    {
      "cell_type": "markdown",
      "source": [
        "**Extracting Data from Nested HTML Tags**"
      ],
      "metadata": {
        "id": "q0ueRMv1voDZ"
      }
    },
    {
      "cell_type": "code",
      "execution_count": 1,
      "metadata": {
        "id": "rEOmIk9hvmNc"
      },
      "outputs": [],
      "source": [
        "import requests\n",
        "import pandas as pd\n",
        "from bs4 import BeautifulSoup"
      ]
    },
    {
      "cell_type": "code",
      "source": [
        "url=\"https://webscraper.io/test-sites/e-commerce/allinone/computers/tablets\"\n",
        "r=requests.get(url)\n",
        "print(r)"
      ],
      "metadata": {
        "colab": {
          "base_uri": "https://localhost:8080/"
        },
        "id": "88LkA4VBv08z",
        "outputId": "8dcfb957-7ea5-4830-da34-c380a69b61df"
      },
      "execution_count": 2,
      "outputs": [
        {
          "output_type": "stream",
          "name": "stdout",
          "text": [
            "<Response [200]>\n"
          ]
        }
      ]
    },
    {
      "cell_type": "code",
      "source": [
        "soup=BeautifulSoup(r.text,\"lxml\")"
      ],
      "metadata": {
        "id": "UVhokDeuv-A6"
      },
      "execution_count": 3,
      "outputs": []
    },
    {
      "cell_type": "code",
      "source": [
        "boxes=soup.find_all(\"div\",class_=\"product-wrapper card-body\")\n",
        "#print(boxes)\n",
        "print(len(boxes))"
      ],
      "metadata": {
        "colab": {
          "base_uri": "https://localhost:8080/"
        },
        "id": "Su2pAEL1wDIv",
        "outputId": "f974545d-b552-4435-d1f0-d171a14b1f82"
      },
      "execution_count": 11,
      "outputs": [
        {
          "output_type": "stream",
          "name": "stdout",
          "text": [
            "21\n"
          ]
        }
      ]
    },
    {
      "cell_type": "code",
      "source": [
        "box1=soup.find(\"div\",class_=\"col-md-4 col-xl-4 col-lg-4\")\n",
        "#print(box1)\n",
        "print(len(box1))"
      ],
      "metadata": {
        "colab": {
          "base_uri": "https://localhost:8080/"
        },
        "id": "HebawJivwaVf",
        "outputId": "1c2c8265-1844-4388-ad6d-061f314ad4a9"
      },
      "execution_count": 13,
      "outputs": [
        {
          "output_type": "stream",
          "name": "stdout",
          "text": [
            "3\n"
          ]
        }
      ]
    },
    {
      "cell_type": "code",
      "source": [
        "name=box1.find(\"a\",class_=\"title\").text\n",
        "print(name)"
      ],
      "metadata": {
        "colab": {
          "base_uri": "https://localhost:8080/"
        },
        "id": "B4D62M-Uw7hg",
        "outputId": "096cda36-e142-4344-c07d-db0274b80db4"
      },
      "execution_count": 14,
      "outputs": [
        {
          "output_type": "stream",
          "name": "stdout",
          "text": [
            "Lenovo IdeaTab\n"
          ]
        }
      ]
    },
    {
      "cell_type": "code",
      "source": [
        "desc=box1.find(\"p\",class_=\"description\").text\n",
        "print(desc)"
      ],
      "metadata": {
        "colab": {
          "base_uri": "https://localhost:8080/"
        },
        "id": "rH5OxPlyyBUB",
        "outputId": "5d0675ea-64c1-490c-c68d-d43ec0139d27"
      },
      "execution_count": 15,
      "outputs": [
        {
          "output_type": "stream",
          "name": "stdout",
          "text": [
            "7\" screen, Android\n"
          ]
        }
      ]
    },
    {
      "cell_type": "code",
      "source": [
        "price=box1.find(\"h4\",class_=\"price float-end card-title pull-right\").text\n",
        "print(price)"
      ],
      "metadata": {
        "colab": {
          "base_uri": "https://localhost:8080/"
        },
        "id": "poaIfjVoyGCe",
        "outputId": "98c842e1-e1ff-4ad6-9e57-e927f3165d89"
      },
      "execution_count": 17,
      "outputs": [
        {
          "output_type": "stream",
          "name": "stdout",
          "text": [
            "$69.99\n"
          ]
        }
      ]
    },
    {
      "cell_type": "markdown",
      "source": [
        "**NAVIGATION BAR**"
      ],
      "metadata": {
        "id": "SzWl-_-4yZ24"
      }
    },
    {
      "cell_type": "code",
      "source": [
        "navbar = soup.find_all(\"ul\", class_=\"nav flex-column\", id=\"side-menu\")[0]\n",
        "sidemenu = navbar.find_all(\"li\", class_=\"nav-item\")[1]  # Use find_all here to get a list and then access the second item\n",
        "print(sidemenu.text.strip())  # Use strip() to remove any leading/trailing whitespace\n"
      ],
      "metadata": {
        "colab": {
          "base_uri": "https://localhost:8080/"
        },
        "id": "3mP0b3ZXyLMq",
        "outputId": "5b703acb-62b6-4416-c289-b02dbff52528"
      },
      "execution_count": 37,
      "outputs": [
        {
          "output_type": "stream",
          "name": "stdout",
          "text": [
            "Computers\n",
            "\t\t\t\t\t\n",
            "\n",
            "\n",
            "\n",
            "\n",
            "\t\t\t\t\t\t\tLaptops\n",
            "\t\t\t\t\t\t\n",
            "\n",
            "\n",
            "\n",
            "\t\t\t\t\t\t\tTablets\n"
          ]
        }
      ]
    },
    {
      "cell_type": "code",
      "source": [],
      "metadata": {
        "id": "2ww3pVbxzhhf"
      },
      "execution_count": null,
      "outputs": []
    }
  ]
}