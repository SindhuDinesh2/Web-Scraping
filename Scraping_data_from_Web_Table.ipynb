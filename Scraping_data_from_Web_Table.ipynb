{
  "nbformat": 4,
  "nbformat_minor": 0,
  "metadata": {
    "colab": {
      "provenance": [],
      "authorship_tag": "ABX9TyPgM4ap/FNrTxaOu3+IVcB3",
      "include_colab_link": true
    },
    "kernelspec": {
      "name": "python3",
      "display_name": "Python 3"
    },
    "language_info": {
      "name": "python"
    }
  },
  "cells": [
    {
      "cell_type": "markdown",
      "metadata": {
        "id": "view-in-github",
        "colab_type": "text"
      },
      "source": [
        "<a href=\"https://colab.research.google.com/github/SindhuDinesh2/Web-Scraping/blob/main/Scraping_data_from_Web_Table.ipynb\" target=\"_parent\"><img src=\"https://colab.research.google.com/assets/colab-badge.svg\" alt=\"Open In Colab\"/></a>"
      ]
    },
    {
      "cell_type": "code",
      "execution_count": 1,
      "metadata": {
        "id": "OdoMRUaP24xv"
      },
      "outputs": [],
      "source": [
        "import requests\n",
        "import pandas as pd\n",
        "from bs4 import BeautifulSoup"
      ]
    },
    {
      "cell_type": "code",
      "source": [
        "url=\"https://ticker.finology.in/\"\n",
        "r=requests.get(url)\n",
        "print(r)"
      ],
      "metadata": {
        "colab": {
          "base_uri": "https://localhost:8080/"
        },
        "id": "hoyzHnpR4EC3",
        "outputId": "74879864-356c-47df-9c37-f8ff3c7a6f5a"
      },
      "execution_count": 3,
      "outputs": [
        {
          "output_type": "stream",
          "name": "stdout",
          "text": [
            "<Response [200]>\n"
          ]
        }
      ]
    },
    {
      "cell_type": "code",
      "source": [
        "soup=BeautifulSoup(r.text,\"lxml\")"
      ],
      "metadata": {
        "id": "1to013DS4LeY"
      },
      "execution_count": 4,
      "outputs": []
    },
    {
      "cell_type": "code",
      "source": [
        "table=soup.find(\"table\",class_=\"table table-sm table-hover screenertable\")\n",
        "#print(table)"
      ],
      "metadata": {
        "id": "2XBXFHPS41dY"
      },
      "execution_count": 7,
      "outputs": []
    },
    {
      "cell_type": "code",
      "source": [
        "header=table.find_all(\"th\")"
      ],
      "metadata": {
        "id": "LtDSfc6B5MCZ"
      },
      "execution_count": 8,
      "outputs": []
    },
    {
      "cell_type": "code",
      "source": [
        "print(header)"
      ],
      "metadata": {
        "colab": {
          "base_uri": "https://localhost:8080/"
        },
        "id": "IHWl2X4k5rcN",
        "outputId": "248524ca-1118-4093-e89b-45a612a0a702"
      },
      "execution_count": 9,
      "outputs": [
        {
          "output_type": "stream",
          "name": "stdout",
          "text": [
            "[<th scope=\"col\">Company</th>, <th scope=\"col\">Price<span class=\"muted\">Rs.</span></th>, <th scope=\"col\">Day High<span class=\"muted\">Rs.</span></th>]\n"
          ]
        }
      ]
    },
    {
      "cell_type": "code",
      "source": [
        "titles=[]\n",
        "for i in header:\n",
        "    name=i.text\n",
        "    titles.append(name)\n",
        "print(titles)"
      ],
      "metadata": {
        "colab": {
          "base_uri": "https://localhost:8080/"
        },
        "id": "QXcSt-4Q5tEW",
        "outputId": "ca1a6b17-9821-4155-9e8c-3b11dc79913a"
      },
      "execution_count": 10,
      "outputs": [
        {
          "output_type": "stream",
          "name": "stdout",
          "text": [
            "['Company', 'PriceRs.', 'Day HighRs.']\n"
          ]
        }
      ]
    },
    {
      "cell_type": "code",
      "source": [
        "df=pd.DataFrame(columns=titles)\n",
        "print(df)"
      ],
      "metadata": {
        "id": "DdUvARIb524g",
        "colab": {
          "base_uri": "https://localhost:8080/"
        },
        "outputId": "934daae0-a78a-4fef-f6d7-e1d602fe6694"
      },
      "execution_count": 12,
      "outputs": [
        {
          "output_type": "stream",
          "name": "stdout",
          "text": [
            "Empty DataFrame\n",
            "Columns: [Company, PriceRs., Day HighRs.]\n",
            "Index: []\n"
          ]
        }
      ]
    },
    {
      "cell_type": "code",
      "source": [
        "rows=table.find_all(\"tr\")\n",
        "#print(rows)"
      ],
      "metadata": {
        "id": "V1S-s0xAAzkW"
      },
      "execution_count": 14,
      "outputs": []
    },
    {
      "cell_type": "code",
      "source": [
        "for i in rows[1:]:\n",
        "  #print(i)\n",
        "  #print(i.text)\n",
        "  data=i.find_all(\"td\")\n",
        "  #print(data)\n",
        "  row=[tr.text for tr in data]\n",
        "  #print(row)\n",
        "  l=len(df)\n",
        "  df.loc[l]=row\n",
        "print(df)"
      ],
      "metadata": {
        "colab": {
          "base_uri": "https://localhost:8080/"
        },
        "id": "1QIxe1kWBAt0",
        "outputId": "726f0734-12c0-47af-f83b-6817019861cb"
      },
      "execution_count": 22,
      "outputs": [
        {
          "output_type": "stream",
          "name": "stdout",
          "text": [
            "                     Company  PriceRs. Day HighRs.\n",
            "0                 \\nZomato\\n    262.34      278.70\n",
            "1                   \\nPCBL\\n    376.90      380.00\n",
            "2             \\nTata Power\\n    460.35      471.00\n",
            "3              \\nInfo Edge\\n   7220.50     7327.75\n",
            "4                   \\nNTPC\\n    419.70      426.30\n",
            "5          \\nSuzlon Energy\\n     71.35       71.37\n",
            "6     \\nIndian Energy Exch\\n    195.32      197.80\n",
            "7         \\nFSN E-Commerce\\n    200.12      204.44\n",
            "8                   \\nGHCL\\n    628.45      662.00\n",
            "9   \\nNeuland Laboratories\\n  11077.75    11257.00\n",
            "10   \\nNazara Technologies\\n    981.40     1034.90\n",
            "11           \\nDivi''s Lab\\n   4991.25     5010.00\n",
            "12                 \\nLupin\\n   1961.50     1984.00\n",
            "13  \\nSelan Exploratn Tech\\n    977.45     1045.00\n",
            "14        \\nReliance Power\\n     34.54       34.54\n"
          ]
        }
      ]
    },
    {
      "cell_type": "code",
      "source": [
        "df.to_csv(\"stocks_data.csv\")"
      ],
      "metadata": {
        "id": "0ISFkuZmBIyb"
      },
      "execution_count": 23,
      "outputs": []
    }
  ]
}